{
 "cells": [
  {
   "cell_type": "markdown",
   "metadata": {},
   "source": [
    "# 2016 US Bike Share Activity Snapshot\n",
    "\n",
    "## Table of Contents\n",
    "- [Introduction](#intro)\n",
    "- [Posing Questions](#pose_questions)\n",
    "- [Data Collection and Wrangling](#wrangling)\n",
    "  - [Condensing the Trip Data](#condensing)\n",
    "- [Exploratory Data Analysis](#eda)\n",
    "  - [Statistics](#statistics)\n",
    "  - [Visualizations](#visualizations)\n",
    "- [Further Exploration](#eda_continued)\n",
    "- [Conclusions](#conclusions)\n",
    "\n",
    "<a id='intro'></a>\n",
    "## Introduction\n",
    "\n",
    "\n",
    "Over the past decade, bicycle-sharing systems have been growing in number and popularity in cities across the world. Bicycle-sharing systems allow users to rent bicycles for short trips, typically 30 minutes or less. Thanks to the rise in information technologies, it is easy for a user of the system to access a dock within the system to unlock or return bicycles. These technologies also provide a wealth of data that can be used to explore how these bike-sharing systems are used.\n",
    "\n",
    "In this project, we will perform an exploratory analysis on data provided by [Motivate](https://www.motivateco.com/), a bike-share system provider for many major cities in the United States. We will compare the system usage between three large cities: New York City, Chicago, and Washington, DC. We will also see if there are any differences within each system for those users that are registered, regular users and those users that are short-term, casual users."
   ]
  },
  {
   "cell_type": "markdown",
   "metadata": {},
   "source": [
    "<a id='pose_questions'></a>\n",
    "## Posing Questions\n",
    " \n",
    "1. How heavy is the service usage comparing weekday to weekend?\n",
    "2. What's difference of the bike using pattern between the regular users and casual users?\n"
   ]
  },
  {
   "cell_type": "markdown",
   "metadata": {},
   "source": [
    "<a id='wrangling'></a>\n",
    "## Data Collection and Wrangling\n",
    "\n",
    "In this project, we will focus on the record of individual trips taken in 2016 from our selected cities: New York City, Chicago, and Washington, DC. Each of these cities has a page where we can freely download the trip data.:\n",
    "\n",
    "- New York City (Citi Bike): [Link](https://www.citibikenyc.com/system-data)\n",
    "- Chicago (Divvy): [Link](https://www.divvybikes.com/system-data)\n",
    "- Washington, DC (Capital Bikeshare): [Link](https://www.capitalbikeshare.com/system-data)\n",
    "\n",
    "If you visit these pages, you will notice that each city has a different way of delivering its data. Chicago updates with new data twice a year, Washington DC is quarterly, and New York City is monthly.  The data has already been collected in the `/data/` folder of the project files. While the original data for 2016 is spread among multiple files for each city, the files in the `/data/` folder collect all of the trip data for the year into one file per city. Some data wrangling of inconsistencies in timestamp format within each city has already been performed too. In addition, a random 2% sample of the original data is taken to make the exploration more manageable. \n"
   ]
  },
  {
   "cell_type": "code",
   "execution_count": 55,
   "metadata": {},
   "outputs": [],
   "source": [
    "## import all necessary packages and functions.\n",
    "import csv \n",
    "from datetime import datetime \n",
    "from pprint import pprint # use to print data structures like dictionaries in\n",
    "                          # a nicer way than the base print function.\n",
    "import matplotlib.pyplot as plt\n",
    "%matplotlib inline"
   ]
  },
  {
   "cell_type": "code",
   "execution_count": 56,
   "metadata": {},
   "outputs": [
    {
     "name": "stdout",
     "output_type": "stream",
     "text": [
      "\n",
      "City: NYC\n",
      "OrderedDict([('tripduration', '839'),\n",
      "             ('starttime', '1/1/2016 00:09:55'),\n",
      "             ('stoptime', '1/1/2016 00:23:54'),\n",
      "             ('start station id', '532'),\n",
      "             ('start station name', 'S 5 Pl & S 4 St'),\n",
      "             ('start station latitude', '40.710451'),\n",
      "             ('start station longitude', '-73.960876'),\n",
      "             ('end station id', '401'),\n",
      "             ('end station name', 'Allen St & Rivington St'),\n",
      "             ('end station latitude', '40.72019576'),\n",
      "             ('end station longitude', '-73.98997825'),\n",
      "             ('bikeid', '17109'),\n",
      "             ('usertype', 'Customer'),\n",
      "             ('birth year', ''),\n",
      "             ('gender', '0')])\n",
      "\n",
      "City: Chicago\n",
      "OrderedDict([('trip_id', '9080545'),\n",
      "             ('starttime', '3/31/2016 23:30'),\n",
      "             ('stoptime', '3/31/2016 23:46'),\n",
      "             ('bikeid', '2295'),\n",
      "             ('tripduration', '926'),\n",
      "             ('from_station_id', '156'),\n",
      "             ('from_station_name', 'Clark St & Wellington Ave'),\n",
      "             ('to_station_id', '166'),\n",
      "             ('to_station_name', 'Ashland Ave & Wrightwood Ave'),\n",
      "             ('usertype', 'Subscriber'),\n",
      "             ('gender', 'Male'),\n",
      "             ('birthyear', '1990')])\n",
      "\n",
      "City: Washington\n",
      "OrderedDict([('Duration (ms)', '427387'),\n",
      "             ('Start date', '3/31/2016 22:57'),\n",
      "             ('End date', '3/31/2016 23:04'),\n",
      "             ('Start station number', '31602'),\n",
      "             ('Start station', 'Park Rd & Holmead Pl NW'),\n",
      "             ('End station number', '31207'),\n",
      "             ('End station', 'Georgia Ave and Fairmont St NW'),\n",
      "             ('Bike number', 'W20842'),\n",
      "             ('Member Type', 'Registered')])\n"
     ]
    }
   ],
   "source": [
    "def print_first_point(filename):\n",
    "    \"\"\"\n",
    "    This function prints and returns the first data point (second row) from\n",
    "    a csv file that includes a header row.\n",
    "    \"\"\"\n",
    "    # print city name for reference\n",
    "    city = filename.split('-')[0].split('/')[-1]\n",
    "    print('\\nCity: {}'.format(city))\n",
    "    \n",
    "    with open(filename, 'r') as f_in:\n",
    "        ## Use the csv library to set up a DictReader object. ##\n",
    "        trip_reader = csv.DictReader(f_in)\n",
    "        \n",
    "        ## Read the first trip from the data file and store it in a variable.     ##\n",
    "        first_trip = next(trip_reader)\n",
    "        \n",
    "        ## Use the pprint library to print the first trip. ##\n",
    "        pprint(first_trip)\n",
    "       \n",
    "    # output city name and first trip for later testing\n",
    "    return (city, first_trip)\n",
    "\n",
    "# list of files for each city\n",
    "data_files = ['./data/NYC-CitiBike-2016.csv',\n",
    "              './data/Chicago-Divvy-2016.csv',\n",
    "              './data/Washington-CapitalBikeshare-2016.csv',]\n",
    "\n",
    "# print the first trip from each file, store in dictionary\n",
    "example_trips = {}\n",
    "for data_file in data_files:\n",
    "    city, first_trip = print_first_point(data_file)\n",
    "    example_trips[city] = first_trip"
   ]
  },
  {
   "cell_type": "markdown",
   "metadata": {},
   "source": [
    "\n",
    "<a id='condensing'></a>\n",
    "### Condensing the Trip Data\n",
    "\n",
    "It's observable from the above printout that each city provides different information. Even where the information is the same, the column names and formats are sometimes different. We need trim and clean the data before exploration. Cleaning the data makes sure that the data formats across the cities are consistent, while trimming focuses only on the parts of the data we are most interested in to make the exploration easier to work with.\n",
    "\n",
    "We will generate new data files with five values of interest for each trip: trip duration, starting month, starting hour, day of the week, and user type. Each of these may require additional wrangling depending on the city:\n",
    "\n",
    "- **Duration**: This has been given to us in seconds (New York, Chicago) or milliseconds (Washington). A more natural unit of analysis will be if all the trip durations are given in terms of minutes.\n",
    "- **Month**, **Hour**, **Day of Week**: Ridership volume is likely to change based on the season, time of day, and whether it is a weekday or weekend. Use the start time of the trip to obtain these values. The New York City data includes the seconds in their timestamps, while Washington and Chicago do not. The [`datetime`](https://docs.python.org/3/library/datetime.html) package will be very useful here to make the needed conversions.\n",
    "- **User Type**: It is possible that users who are subscribed to a bike-share system will have different patterns of use compared to users who only have temporary passes. Washington divides its users into two types: 'Registered' for users with annual, monthly, and other longer-term subscriptions, and 'Casual', for users with 24-hour, 3-day, and other short-term passes. The New York and Chicago data uses 'Subscriber' and 'Customer' for these groups, respectively. For consistency, you will convert the Washington labels to match the other two.\n",
    "\n",
    "\n",
    "\n",
    "\n",
    "First, complete the helper functions to address each of the cleaning tasks described above."
   ]
  },
  {
   "cell_type": "code",
   "execution_count": 57,
   "metadata": {},
   "outputs": [],
   "source": [
    "def duration_in_mins(datum, city):\n",
    "    \"\"\"\n",
    "    Takes as input a dictionary containing info about a single trip (datum) and\n",
    "    its origin city (city) and returns the trip duration in units of minutes.\n",
    "    \n",
    "    Remember that Washington is in terms of milliseconds while Chicago and NYC\n",
    "    are in terms of seconds. \n",
    "    \n",
    "    \"\"\"\n",
    "    \n",
    "    if city == 'Chicago' or city == 'NYC':\n",
    "        duration = float(datum['tripduration']) / 60\n",
    "    else:\n",
    "        duration = float(datum['Duration (ms)']) / 60000\n",
    "    \n",
    "    return duration\n",
    "\n",
    "\n",
    "# Some tests to check if code works. There should be no output if all of\n",
    "# the assertions pass. The `example_trips` dictionary was obtained from when\n",
    "# we printed the first trip from each of the original data files.\n",
    "tests = {'NYC': 13.9833,\n",
    "         'Chicago': 15.4333,\n",
    "         'Washington': 7.1231}\n",
    "\n",
    "for city in tests:\n",
    "    assert abs(duration_in_mins(example_trips[city], city) - tests[city]) < .001"
   ]
  },
  {
   "cell_type": "code",
   "execution_count": 58,
   "metadata": {},
   "outputs": [],
   "source": [
    "def time_of_trip(datum, city):\n",
    "    \"\"\"\n",
    "    Takes as input a dictionary containing info about a single trip (datum) and\n",
    "    its origin city (city) and returns the month, hour, and day of the week in\n",
    "    which the trip was made.\n",
    "    \n",
    "    Remember that NYC includes seconds, while Washington and Chicago do not.\n",
    "\n",
    "    \"\"\"\n",
    "    \n",
    "    if city == 'Chicago':\n",
    "        dt = datetime.strptime(datum['starttime'], \"%m/%d/%Y %H:%M\")\n",
    "    elif city == 'Washington':\n",
    "        dt = datetime.strptime(datum['Start date'], \"%m/%d/%Y %H:%M\")\n",
    "    else:\n",
    "        dt = datetime.strptime(datum['starttime'], \"%m/%d/%Y %H:%M:%S\")\n",
    "        \n",
    "    month = int(dt.strftime('%m'))\n",
    "    hour = int(dt.strftime('%H'))\n",
    "    day_of_week = dt.strftime('%A')\n",
    "        \n",
    "    return (month, hour, day_of_week)\n",
    "\n",
    "\n",
    "# Some tests to check if code works. There should be no output if all of\n",
    "# the assertions pass. The `example_trips` dictionary was obtained from when\n",
    "# we printed the first trip from each of the original data files.\n",
    "tests = {'NYC': (1, 0, 'Friday'),\n",
    "         'Chicago': (3, 23, 'Thursday'),\n",
    "         'Washington': (3, 22, 'Thursday')}\n",
    "\n",
    "for city in tests:\n",
    "    assert time_of_trip(example_trips[city], city) == tests[city]"
   ]
  },
  {
   "cell_type": "code",
   "execution_count": 59,
   "metadata": {},
   "outputs": [],
   "source": [
    "def type_of_user(datum, city):\n",
    "    \"\"\"\n",
    "    Takes as input a dictionary containing info about a single trip (datum) and\n",
    "    its origin city (city) and returns the type of system user that made the\n",
    "    trip.\n",
    "    \n",
    "    Remember that Washington has different category names compared to Chicago\n",
    "    and NYC. Because Washington use 'Registered' for Subscriber, change it to Subscriber.\n",
    "    \"\"\"\n",
    "    \n",
    "    if city == 'Chicago' or city == 'NYC':\n",
    "        user_type = datum['usertype']\n",
    "    else: # else handle the case of Washington\n",
    "        user_type = datum['Member Type']\n",
    "        if user_type == 'Registered':\n",
    "            user_type = 'Subscriber'\n",
    "        else:\n",
    "            user_type = 'Customer'\n",
    "\n",
    "    return user_type\n",
    "\n",
    "\n",
    "# Some tests to check if code works. There should be no output if all of\n",
    "# the assertions pass. The `example_trips` dictionary was obtained from when\n",
    "# we printed the first trip from each of the original data files.\n",
    "tests = {'NYC': 'Customer',\n",
    "         'Chicago': 'Subscriber',\n",
    "         'Washington': 'Subscriber'}\n",
    "\n",
    "for city in tests:\n",
    "    assert type_of_user(example_trips[city], city) == tests[city]"
   ]
  },
  {
   "cell_type": "markdown",
   "metadata": {},
   "source": [
    "Now, use the helper functions we wrote above to create a condensed data file for each city consisting only of the data fields indicated above. "
   ]
  },
  {
   "cell_type": "code",
   "execution_count": 60,
   "metadata": {},
   "outputs": [],
   "source": [
    "def condense_data(in_file, out_file, city):\n",
    "    \"\"\"\n",
    "    This function takes full data from the specified input file\n",
    "    and writes the condensed data to a specified output file. The city\n",
    "    argument determines how the input file will be parsed.\n",
    "    \n",
    "    \"\"\"\n",
    "    \n",
    "    with open(out_file, 'w') as f_out, open(in_file, 'r') as f_in:\n",
    "        # set up csv DictWriter object - writer requires column names for the\n",
    "        # first row as the \"fieldnames\" argument\n",
    "        out_colnames = ['duration', 'month', 'hour', 'day_of_week', 'user_type']        \n",
    "        trip_writer = csv.DictWriter(f_out, fieldnames = out_colnames)\n",
    "        trip_writer.writeheader()\n",
    "        \n",
    "        ## set up csv DictReader object ##\n",
    "        trip_reader = csv.DictReader(f_in)\n",
    "\n",
    "        # collect data from and process each row\n",
    "        for row in trip_reader:\n",
    "            # set up a dictionary to hold the values for the cleaned and trimmed\n",
    "            # data point\n",
    "            new_point = {}\n",
    "\n",
    "            ## Use the helper functions to get the cleaned data from  ##\n",
    "            ## the original data dictionaries.                              ##\n",
    "            ## Note that the keys for the new_point dictionary should match ##\n",
    "            ## the column names set in the DictWriter object above.         ##\n",
    "            duration = duration_in_mins(row, city) \n",
    "            month, hour, day_of_week = time_of_trip(row, city) \n",
    "            user_type = type_of_user(row, city) \n",
    "            new_point['duration'] = duration\n",
    "            new_point['month'] = month\n",
    "            new_point['hour'] = hour\n",
    "            new_point['day_of_week'] = day_of_week\n",
    "            new_point['user_type'] = user_type\n",
    "            \n",
    "            \n",
    "            ## Write the processed information to the output file.     ##\n",
    "            trip_writer.writerow(new_point)\n",
    "            \n",
    "            "
   ]
  },
  {
   "cell_type": "code",
   "execution_count": 61,
   "metadata": {},
   "outputs": [
    {
     "name": "stdout",
     "output_type": "stream",
     "text": [
      "\n",
      "City: Washington\n",
      "OrderedDict([('duration', '7.123116666666666'),\n",
      "             ('month', '3'),\n",
      "             ('hour', '22'),\n",
      "             ('day_of_week', 'Thursday'),\n",
      "             ('user_type', 'Subscriber')])\n",
      "\n",
      "City: Chicago\n",
      "OrderedDict([('duration', '15.433333333333334'),\n",
      "             ('month', '3'),\n",
      "             ('hour', '23'),\n",
      "             ('day_of_week', 'Thursday'),\n",
      "             ('user_type', 'Subscriber')])\n",
      "\n",
      "City: NYC\n",
      "OrderedDict([('duration', '13.983333333333333'),\n",
      "             ('month', '1'),\n",
      "             ('hour', '0'),\n",
      "             ('day_of_week', 'Friday'),\n",
      "             ('user_type', 'Customer')])\n"
     ]
    }
   ],
   "source": [
    "# Check the work\n",
    "city_info = {'Washington': {'in_file': './data/Washington-CapitalBikeshare-2016.csv',\n",
    "                            'out_file': './data/Washington-2016-Summary.csv'},\n",
    "             'Chicago': {'in_file': './data/Chicago-Divvy-2016.csv',\n",
    "                         'out_file': './data/Chicago-2016-Summary.csv'},\n",
    "             'NYC': {'in_file': './data/NYC-CitiBike-2016.csv',\n",
    "                     'out_file': './data/NYC-2016-Summary.csv'}}\n",
    "\n",
    "for city, filenames in city_info.items():\n",
    "    condense_data(filenames['in_file'], filenames['out_file'], city)\n",
    "    print_first_point(filenames['out_file'])"
   ]
  },
  {
   "cell_type": "markdown",
   "metadata": {},
   "source": [
    "\n",
    "<a id='eda'></a>\n",
    "## Exploratory Data Analysis\n",
    "\n",
    "In this section we will compute descriptive statistics from the data. We will also use the `matplotlib` library to create some basic histograms of the data.\n",
    "\n",
    "<a id='statistics'></a>\n",
    "### Statistics\n",
    "\n",
    "First, let's compute some basic counts.  \n",
    "\n",
    "**Question**: Which city has the highest number of trips? Which city has the highest proportion of trips made by subscribers? Which city has the highest proportion of trips made by short-term customers?\n"
   ]
  },
  {
   "cell_type": "code",
   "execution_count": 62,
   "metadata": {},
   "outputs": [],
   "source": [
    "def number_of_trips(filename):\n",
    "    \"\"\"\n",
    "    This function reads in a file with trip data and reports the number of\n",
    "    trips made by subscribers, customers, and total overall.\n",
    "    \"\"\"\n",
    "    with open(filename, 'r') as f_in:\n",
    "        # set up csv reader object\n",
    "        reader = csv.DictReader(f_in)\n",
    "        \n",
    "        # initialize count variables\n",
    "        n_subscribers = 0\n",
    "        n_customers = 0\n",
    "        \n",
    "        # tally up ride types\n",
    "        for row in reader:\n",
    "            if row['user_type'] == 'Subscriber':\n",
    "                n_subscribers += 1\n",
    "            else:\n",
    "                n_customers += 1\n",
    "        \n",
    "        # compute total number of rides\n",
    "        n_total = n_subscribers + n_customers\n",
    "        \n",
    "        # return tallies as a tuple\n",
    "        return(n_subscribers, n_customers, n_total)"
   ]
  },
  {
   "cell_type": "code",
   "execution_count": 63,
   "metadata": {},
   "outputs": [
    {
     "name": "stdout",
     "output_type": "stream",
     "text": [
      "NYC has the highest proportion of trips made by subscribers:245896,\n",
      "        NYC has the highest proportion of trips made by short-term customers:30902,\n",
      "        NYC has the highest total number of trips:276798\n"
     ]
    }
   ],
   "source": [
    "city_files = {'Washington':'./data/Washington-2016-Summary.csv',\n",
    "              'Chicago':'./data/Chicago-2016-Summary.csv',\n",
    "              'NYC':'./data/NYC-2016-Summary.csv'}\n",
    "\n",
    "# initialize the variables to record the maximum number of subscribers, customers and total along with the city\n",
    "max_n_subscribers = 0\n",
    "max_n_customers = 0\n",
    "max_n_total = 0\n",
    "    \n",
    "for city, filename in city_files.items():\n",
    "    # get the number of trips made by subscribers, customers, and total overall.\n",
    "    n_subscribers, n_customers, n_total = number_of_trips(filename)\n",
    "    \n",
    "    # update the variables according to the returned value\n",
    "    if max_n_subscribers < n_subscribers:\n",
    "        max_n_subscribers = n_subscribers\n",
    "        max_n_subscribers_city = city\n",
    "    if max_n_customers < n_customers:\n",
    "        max_n_customers = n_customers\n",
    "        max_n_customers_city = city\n",
    "    if max_n_total < n_total:\n",
    "        max_n_total = n_total\n",
    "        max_n_total_city = city\n",
    "       \n",
    "    \n",
    "print(\"{} has the highest proportion of trips made by subscribers:{},\\n \\\n",
    "       {} has the highest proportion of trips made by short-term customers:{},\\n \\\n",
    "       {} has the highest total number of trips:{}\".format(max_n_subscribers_city, \n",
    "                                                     max_n_subscribers,\n",
    "                                                     max_n_customers_city,\n",
    "                                                     max_n_customers,\n",
    "                                                     max_n_total_city,\n",
    "                                                     max_n_total))\n",
    "                                                                                        \n",
    "\n"
   ]
  },
  {
   "cell_type": "markdown",
   "metadata": {},
   "source": [
    "**Answer**: NYC has the highest proportion of trips made by subscribers:245896,\n",
    "            NYC has the highest proportion of trips made by short-term customers:30902,\n",
    "            NYC has the highest number of trips:276798\n",
    "            \n",
    "\n",
    "Now, we will continue to investigate properties of the data.\n",
    "\n",
    "**Question**: Bike-share systems are designed for riders to take short trips. Most of the time, users are allowed to take trips of 30 minutes or less with no additional charges, with overage charges made for trips of longer than that duration. What is the average trip length for each city? What proportion of rides made in each city are longer than 30 minutes?\n"
   ]
  },
  {
   "cell_type": "code",
   "execution_count": 64,
   "metadata": {},
   "outputs": [],
   "source": [
    "def length_of_trips(filename):\n",
    "    \"\"\"\n",
    "    This function reads in a file with trip data and reports the average length of trips for each city \n",
    "    and the proportion of rides that's made in each city longer than 30 minutes.\n",
    "    \"\"\"\n",
    "    with open(filename, 'r') as f_in:\n",
    "        # set up csv reader object\n",
    "        reader = csv.DictReader(f_in)\n",
    "        \n",
    "        # initialize count variables\n",
    "        s_trip = 0\n",
    "        s_trip_subscriber = 0\n",
    "        s_trip_customer = 0\n",
    "        n_trip_over_30min = 0\n",
    "        n_trip = 0\n",
    "        n_trip_subscriber = 0\n",
    "        n_trip_customer = 0\n",
    "        \n",
    "        \n",
    "        # tally up total trip duration according to the user type, total and duration.\n",
    "        for row in reader:\n",
    "            duration = float(row['duration'])\n",
    "            s_trip += duration\n",
    "            n_trip += 1\n",
    "            if float(row['duration']) > 30:\n",
    "                n_trip_over_30min += 1\n",
    "            if row['user_type'] == 'Subscriber':\n",
    "                s_trip_subscriber += duration\n",
    "                n_trip_subscriber += 1\n",
    "            else:\n",
    "                s_trip_customer += duration\n",
    "                n_trip_customer += 1\n",
    "        \n",
    "        avg_trip = s_trip/n_trip\n",
    "        percent_over_30min = n_trip_over_30min / n_trip\n",
    "        avg_trip_subscriber = s_trip_subscriber/ n_trip_subscriber\n",
    "        avg_trip_customer = s_trip_customer / n_trip_customer\n",
    "                \n",
    "        # return tallies as a tuple\n",
    "        return(avg_trip,percent_over_30min, avg_trip_subscriber, avg_trip_customer )"
   ]
  },
  {
   "cell_type": "code",
   "execution_count": 65,
   "metadata": {
    "scrolled": true
   },
   "outputs": [
    {
     "name": "stdout",
     "output_type": "stream",
     "text": [
      "Washington has average trip duration of 18 minutes, and its percentage of trip duration over 30 minutes is 11%.\n",
      "Chicago has average trip duration of 16 minutes, and its percentage of trip duration over 30 minutes is 8%.\n",
      "NYC has average trip duration of 15 minutes, and its percentage of trip duration over 30 minutes is 7%.\n"
     ]
    }
   ],
   "source": [
    "\n",
    "city_files = {'Washington':'./data/Washington-2016-Summary.csv',\n",
    "              'Chicago':'./data/Chicago-2016-Summary.csv',\n",
    "              'NYC':'./data/NYC-2016-Summary.csv'}\n",
    "\n",
    "for city, filename in city_files.items():\n",
    "    average_trip,percent_over_30min,average_trip_subscriber,average_trip_customer = length_of_trips(filename)\n",
    "    print('{} has average trip duration of {} minutes, and its percentage of trip duration over 30 minutes is {:.0%}.'.format(city, int(average_trip), percent_over_30min))\n"
   ]
  },
  {
   "cell_type": "markdown",
   "metadata": {},
   "source": [
    "**Answer**: \n",
    "Washington has average trip duration of 18 minutes, and its percentage of trip duration over 30 minutes is 11%.\n",
    "Chicago has average trip duration of 16 minutes, and its percentage of trip duration over 30 minutes is 8%.\n",
    "NYC has average trip duration of 15 minutes, and its percentage of trip duration over 30 minutes is 7%.\n",
    "\n",
    "\n",
    "**Question**: Dig deeper into the question of trip duration based on ridership. Which type of user takes longer rides on average: Subscribers or Customers?\n"
   ]
  },
  {
   "cell_type": "code",
   "execution_count": 66,
   "metadata": {},
   "outputs": [
    {
     "name": "stdout",
     "output_type": "stream",
     "text": [
      "In Washington the average trip duration of subscribers is 12 minutes, and the average trip duration of customers is 41 minutes.\n",
      "In Chicago the average trip duration of subscribers is 12 minutes, and the average trip duration of customers is 30 minutes.\n",
      "In NYC the average trip duration of subscribers is 13 minutes, and the average trip duration of customers is 32 minutes.\n"
     ]
    }
   ],
   "source": [
    "\n",
    "for city, filename in city_files.items():\n",
    "    average_trip,percent_over_30min,average_trip_subscriber,average_trip_customer = length_of_trips(filename)\n",
    "    print('In {} the average trip duration of subscribers is {} minutes, and the average trip duration of customers is {} minutes.'.format(city, int(average_trip_subscriber), int(average_trip_customer)))\n",
    "\n"
   ]
  },
  {
   "cell_type": "markdown",
   "metadata": {},
   "source": [
    "**Answer**: Across the three citys, it's suprisingly consistent. In all three cities, cusotmers takes longer rides on average.\n",
    "In Washington the average trip duration of subscribers is 12 minutes, and the average trip duration of customers is 41 minutes.\n",
    "In Chicago the average trip duration of subscribers is 12 minutes, and the average trip duration of customers is 30 minutes.\n",
    "In NYC the average trip duration of subscribers is 13 minutes, and the average trip duration of customers is 32 minutes."
   ]
  },
  {
   "cell_type": "markdown",
   "metadata": {},
   "source": [
    "<a id='visualizations'></a>\n",
    "### Visualizations\n",
    "\n",
    "While the mean trip time for Subscribers is well under 30 minutes, the mean trip time for Customers is actually _above_ 30 minutes! It will be interesting for us to look at how the trip times are distributed. "
   ]
  },
  {
   "cell_type": "markdown",
   "metadata": {},
   "source": [
    "Select the city of Chicago to plot the distribution of trip times for the Subscribers and customers. "
   ]
  },
  {
   "cell_type": "code",
   "execution_count": 67,
   "metadata": {},
   "outputs": [],
   "source": [
    "def duration_of_trips(filename):\n",
    "    \"\"\"\n",
    "    This function reads in a file with trip data and collect all the trip times/duration.\n",
    "    \"\"\"\n",
    "    trip_times = []\n",
    "    trip_times_subscriber = []\n",
    "    trip_times_customer = []\n",
    "    \n",
    "    with open(filename, 'r') as f_in:\n",
    "        # set up csv reader object\n",
    "        reader = csv.DictReader(f_in)\n",
    "        \n",
    "        #collect all the trip duration data in different user types\n",
    "        for row in reader:\n",
    "            trip_times.append(float(row['duration']))\n",
    "            if row['user_type'] == 'Subscriber':\n",
    "                trip_times_subscriber.append(float(row['duration']))\n",
    "            else:\n",
    "                trip_times_customer.append(float(row['duration']))\n",
    "    \n",
    "    return(trip_times, trip_times_subscriber, trip_times_customer)\n",
    "        "
   ]
  },
  {
   "cell_type": "code",
   "execution_count": 68,
   "metadata": {},
   "outputs": [],
   "source": [
    "# Collect all of the trip times as a list and then use pyplot functions to generate a histogram of trip times.\n",
    "# load library\n",
    "\n",
    "# choose Chicago data file for analysis and visualization\n",
    "city_file = './data/Chicago-2016-Summary.csv'\n",
    "\n",
    "#initialize the variable\n",
    "city_trip_times = []\n",
    "\n",
    "city_trip_times,trip_times_subscriber,trip_times_customer = duration_of_trips(city_file)\n",
    "\n"
   ]
  },
  {
   "cell_type": "code",
   "execution_count": 69,
   "metadata": {},
   "outputs": [
    {
     "data": {
      "image/png": "[encoded data removed]",
      "text/plain": [
       "<Figure size 432x288 with 1 Axes>"
      ]
     },
     "metadata": {
      "needs_background": "light"
     },
     "output_type": "display_data"
    }
   ],
   "source": [
    "\n",
    "#plot the districut of trip times for subscribers in Chicago\n",
    "#Add limits to the plots so that only trips of duration less than 75 minutes are plotted. \n",
    "#Set the plots up so that bars are in five-minute wide intervals.\n",
    "plt.hist(trip_times_subscriber, 5, (0,75))\n",
    "plt.title('Distribution of Subscriber Trip Durations in Chicago')\n",
    "plt.xlabel('Duration (m)')\n",
    "plt.xlim(xmin=0.0)\n",
    "#plt.margins(x=0)\n",
    "plt.show()\n"
   ]
  },
  {
   "cell_type": "code",
   "execution_count": 70,
   "metadata": {},
   "outputs": [
    {
     "data": {
      "image/png": "[encoded data removed]",
      "text/plain": [
       "<Figure size 432x288 with 1 Axes>"
      ]
     },
     "metadata": {
      "needs_background": "light"
     },
     "output_type": "display_data"
    }
   ],
   "source": [
    "#plot the districut of trip times for subscribers in Chicago\n",
    "plt.hist(trip_times_customer, 5, (0,75))\n",
    "plt.title('Distribution of Customer Trip Durations in Chicago')\n",
    "plt.xlabel('Duration (m)')\n",
    "plt.margins(x=0)\n",
    "plt.show()"
   ]
  },
  {
   "cell_type": "markdown",
   "metadata": {},
   "source": [
    "According to the generated plot, it shows in Chicago the peak of subscribers trip duration is from 0 to 15 minutes. For customers, the peak of trip duration is from 15 to 30 minutes. The both distributions are righ-skewed. "
   ]
  },
  {
   "cell_type": "markdown",
   "metadata": {
    "collapsed": true
   },
   "source": [
    "<a id='eda_continued'></a>\n",
    "## Further Analysis\n",
    " \n",
    "\n",
    "**Question:** Is the pattern of ridership different on the weekends versus weekdays? On what days are Subscribers most likely to use the system? What about Customers? Does the average duration of rides change depending on the day of the week?\n"
   ]
  },
  {
   "cell_type": "code",
   "execution_count": 71,
   "metadata": {},
   "outputs": [],
   "source": [
    "\n",
    "def trip_duration_pattern(filename):\n",
    "    \"\"\"\n",
    "    This function reads in a file with trip data and reports the average trip durations, \n",
    "    according to the rider type on weekdays vs weekends.\n",
    "    \"\"\"\n",
    "    with open(filename, 'r') as f_in:\n",
    "        # set up csv reader object\n",
    "        reader = csv.DictReader(f_in)\n",
    "        \n",
    "        # initialize count variables\n",
    "        n_subscriber_weekdays = 0\n",
    "        n_customer_weekdays = 0\n",
    "        n_subscriber_weekends = 0\n",
    "        n_customer_weekends = 0\n",
    "        s_subscriber_weekdays = 0\n",
    "        s_customer_weekdays = 0\n",
    "        s_subscriber_weekends = 0\n",
    "        s_customer_weekends = 0\n",
    "        \n",
    "        weekdays = ['Monday', 'Tuesday', 'Wednesday', 'Thursday', 'Friday']\n",
    "\n",
    "        # tally up the trip times according to the rider type and days in a week.\n",
    "        for row in reader:\n",
    "            if row['day_of_week'] in weekdays:\n",
    "                if row['user_type'] == 'Subscriber':\n",
    "                    n_subscriber_weekdays += 1\n",
    "                    s_subscriber_weekdays += float(row['duration'])\n",
    "                else:\n",
    "                    n_customer_weekdays += 1\n",
    "                    s_customer_weekdays += float(row['duration'])\n",
    "            else:\n",
    "                if row['user_type'] == 'Subscriber':\n",
    "                    n_subscriber_weekends += 1\n",
    "                    s_subscriber_weekends += float(row['duration'])\n",
    "                else:\n",
    "                    n_customer_weekends += 1\n",
    "                    s_customer_weekends += float(row['duration'])\n",
    "        \n",
    "        # calculate the average tip durations according to rider type on weekdays or weekends.         \n",
    "        avg_subscriber_weekdays = s_subscriber_weekdays / n_subscriber_weekdays\n",
    "        avg_customer_weekdays = s_customer_weekdays / n_customer_weekdays\n",
    "        avg_subscriber_weekends = s_subscriber_weekends / n_subscriber_weekends\n",
    "        avg_customer_weekends = s_customer_weekends / n_customer_weekends\n",
    "                \n",
    "        # return tallies as a tuple\n",
    "        return(avg_subscriber_weekdays,avg_customer_weekdays,avg_subscriber_weekends,avg_customer_weekends)"
   ]
  },
  {
   "cell_type": "code",
   "execution_count": 72,
   "metadata": {},
   "outputs": [],
   "source": [
    "def ridership_pattern(filename):\n",
    "    \"\"\"\n",
    "    This function reads in a file with trip data and reports the ridership pattern on weekdays vs weekends.\n",
    "    \"\"\"\n",
    "    with open(filename, 'r') as f_in:\n",
    "        # set up csv reader object\n",
    "        reader = csv.DictReader(f_in)\n",
    "        \n",
    "        # initialize count variables\n",
    "        n_subscriber_weekdays = 0\n",
    "        n_customer_weekdays = 0\n",
    "        n_subscriber_weekends = 0\n",
    "        n_customer_weekends = 0\n",
    "        \n",
    "        weekdays = ['Monday', 'Tuesday', 'Wednesday', 'Thursday', 'Friday']\n",
    "        \n",
    "        # tally up ride types\n",
    "        for row in reader:\n",
    "            if row['day_of_week'] in weekdays:\n",
    "                if row['user_type'] == 'Subscriber':\n",
    "                    n_subscriber_weekdays += 1\n",
    "                else:\n",
    "                    n_customer_weekdays += 1\n",
    "            else:\n",
    "                if row['user_type'] == 'Subscriber':\n",
    "                    n_subscriber_weekends += 1\n",
    "                else:\n",
    "                    n_customer_weekends += 1\n",
    "        \n",
    "        percent_n_subscriber_weekdays = n_subscriber_weekdays / (n_subscriber_weekdays + n_subscriber_weekends)\n",
    "        percent_n_subscriber_weekends = n_subscriber_weekends / (n_subscriber_weekdays + n_subscriber_weekends)\n",
    "        percent_n_customer_weekdays = n_customer_weekdays / (n_customer_weekdays + n_customer_weekends)\n",
    "        percent_n_customer_weekends = n_customer_weekends / (n_customer_weekdays + n_customer_weekends)\n",
    "\n",
    "        # return tallies as a tuple\n",
    "        return(percent_n_subscriber_weekdays,percent_n_subscriber_weekends,percent_n_customer_weekdays,percent_n_customer_weekends)"
   ]
  },
  {
   "cell_type": "code",
   "execution_count": 73,
   "metadata": {},
   "outputs": [
    {
     "name": "stdout",
     "output_type": "stream",
     "text": [
      "Washington:\n",
      "79% of subscribers take trip on weekdays, and the average trip duration is 12 minutes.\n",
      "21% of subscribers take trip on weekends, and the average trip duration is 13 minutes.\n",
      "57% of customers take trip on weekdays, and the average trip duration is 39 minutes.\n",
      "43% of customers take trip on weekends, and the average trip duration is 44 minutes.\n",
      "\n",
      "Chicago:\n",
      "80% of subscribers take trip on weekdays, and the average trip duration is 11 minutes.\n",
      "20% of subscribers take trip on weekends, and the average trip duration is 13 minutes.\n",
      "50% of customers take trip on weekdays, and the average trip duration is 30 minutes.\n",
      "50% of customers take trip on weekends, and the average trip duration is 31 minutes.\n",
      "\n",
      "NYC:\n",
      "79% of subscribers take trip on weekdays, and the average trip duration is 13 minutes.\n",
      "21% of subscribers take trip on weekends, and the average trip duration is 14 minutes.\n",
      "54% of customers take trip on weekdays, and the average trip duration is 32 minutes.\n",
      "46% of customers take trip on weekends, and the average trip duration is 32 minutes.\n",
      "\n"
     ]
    }
   ],
   "source": [
    "# compare the ridership pattern and the pattern of their trip time among Washington, Chicago and NYC\n",
    "\n",
    "for city, filename in city_files.items():\n",
    "    percent_n_subscriber_weekdays,percent_n_subscriber_weekends,percent_n_customer_weekdays,percent_n_customer_weekends = ridership_pattern(filename)\n",
    "    avg_subscriber_duration_weekdays,avg_customer_duration_weekdays,avg_subscriber_duration_weekends,avg_customer_duration_weekends = trip_duration_pattern(filename)\n",
    "    \n",
    "    print('{}:'.format(city))\n",
    "    print('{:.0%} of subscribers take trip on weekdays, and the average trip duration is {} minutes.'.format(percent_n_subscriber_weekdays,\n",
    "                                                                                                          int(avg_subscriber_duration_weekdays) ) ) \n",
    "    print('{:.0%} of subscribers take trip on weekends, and the average trip duration is {} minutes.'.format(percent_n_subscriber_weekends,\n",
    "                                                                                                          int(avg_subscriber_duration_weekends) ) )\n",
    "    print('{:.0%} of customers take trip on weekdays, and the average trip duration is {} minutes.'.format(percent_n_customer_weekdays,\n",
    "                                                                                                      int(avg_customer_duration_weekdays) ) )\n",
    "    print('{:.0%} of customers take trip on weekends, and the average trip duration is {} minutes.\\n'.format(percent_n_customer_weekends,\n",
    "                                                                                                          int(avg_customer_duration_weekends) ) )\n",
    "                                                                                                         \n"
   ]
  },
  {
   "cell_type": "markdown",
   "metadata": {},
   "source": [
    "**Answer:**\n",
    "The data shows most of subscribers take trip on weekdays and there is no much difference on their trip time on weekdays vs weekends. But the customers take similar trip numbers and similar times both on weekends and weekdays.  We can also tell that on the plot for the distribute of trip time.\n",
    "\n",
    "Washington:\n",
    "79% of subscribers take trip on weekdays, and the average trip duration is 12 minutes.\n",
    "21% of subscribers take trip on weekends, and the average trip duration is 13 minutes.\n",
    "57% of customers take trip on weekdays, and the average trip duration is 39 minutes.\n",
    "43% of customers take trip on weekends, and the average trip duration is 44 minutes.\n",
    "\n",
    "Chicago:\n",
    "80% of subscribers take trip on weekdays, and the average trip duration is 11 minutes.\n",
    "20% of subscribers take trip on weekends, and the average trip duration is 13 minutes.\n",
    "50% of customers take trip on weekdays, and the average trip duration is 30 minutes.\n",
    "50% of customers take trip on weekends, and the average trip duration is 31 minutes.\n",
    "\n",
    "NYC:\n",
    "79% of subscribers take trip on weekdays, and the average trip duration is 13 minutes.\n",
    "21% of subscribers take trip on weekends, and the average trip duration is 14 minutes.\n",
    "54% of customers take trip on weekdays, and the average trip duration is 32 minutes.\n",
    "46% of customers take trip on weekends, and the average trip duration is 32 minutes."
   ]
  },
  {
   "cell_type": "code",
   "execution_count": 74,
   "metadata": {
    "scrolled": true
   },
   "outputs": [
    {
     "data": {
      "image/png": "[encoded data removed]",
      "text/plain": [
       "<Figure size 432x288 with 1 Axes>"
      ]
     },
     "metadata": {
      "needs_background": "light"
     },
     "output_type": "display_data"
    }
   ],
   "source": [
    "\n",
    "# chose the Chicago data file to do the visualization\n",
    "city_file = './data/Chicago-2016-Summary.csv'\n",
    "\n",
    "\n",
    "avg_subscriber_duration_weekdays,avg_customer_duration_weekdays,avg_subscriber_duration_weekends,avg_customer_duration_weekends = trip_duration_pattern(filename)\n",
    " \n",
    "avg_duration_set = [avg_subscriber_duration_weekdays,avg_customer_duration_weekdays,avg_subscriber_duration_weekends,avg_customer_duration_weekends]\n",
    "bar_set = ['avg_subscriber_duration_weekdays', 'avg_customer_duration_weekdays', 'avg_subscriber_duration_weekends', 'avg_customer_duration_weekends']\n",
    "\n",
    "plt.barh(bar_set, avg_duration_set)\n",
    "plt.title('Average Trip Durations subscriber vs Customer in Chicago')\n",
    "plt.xlabel('Duration (m)')\n",
    "plt.show()"
   ]
  },
  {
   "cell_type": "code",
   "execution_count": 75,
   "metadata": {},
   "outputs": [
    {
     "data": {
      "image/png": "[encoded data removed]",
      "text/plain": [
       "<Figure size 432x288 with 1 Axes>"
      ]
     },
     "metadata": {
      "needs_background": "light"
     },
     "output_type": "display_data"
    }
   ],
   "source": [
    "\n",
    "percent_n_subscriber_weekdays,percent_n_subscriber_weekends,percent_n_customer_weekdays,percent_n_customer_weekends = ridership_pattern(city_file)\n",
    "                       \n",
    "n_users_set = [percent_n_subscriber_weekdays * 100,percent_n_subscriber_weekends * 100,percent_n_customer_weekdays * 100,percent_n_customer_weekends * 100]\n",
    "bar_set = ['percentage_subscriber_weekdays', 'percentage_subscriber_weekends', 'percentage_customer_weekdays', 'percentage_customer_weekends']\n",
    "\n",
    "plt.barh(bar_set, n_users_set)\n",
    "plt.title('Percentage of subscribers vs Customers in Chicago')\n",
    "plt.xlabel('Percentage (%)')\n",
    "plt.show()"
   ]
  },
  {
   "cell_type": "markdown",
   "metadata": {},
   "source": [
    "<a id='conclusions'></a>\n",
    "## Conclusions\n",
    "\n",
    "\n",
    "According to the data analysis above, in all the three cities, \n",
    "\n",
    "- The bike-share service is used most in New York City. It has the highest number of trips among the three cities.\n",
    "- The average trip duration is well under 30 minutes. and the percentage of trip duration over 30 minutes is from 7% to 11%. \n",
    "- Cusotmers takes longer rides on average. The average trip duration of subscribers is around 12 minutes, and the average trip duration of customers is over 30 minutes. \n",
    "- Most of subscribers take trip on weekdays and there is no much difference on their trip time on weekdays vs weekends. But the customers take similar trip numbers and similar times both on weekends and weekdays. \n",
    "\n",
    "\n"
   ]
  },
  {
   "cell_type": "code",
   "execution_count": 76,
   "metadata": {},
   "outputs": [
    {
     "data": {
      "text/plain": [
       "0"
      ]
     },
     "execution_count": 76,
     "metadata": {},
     "output_type": "execute_result"
    }
   ],
   "source": [
    "from subprocess import call\n",
    "call(['python', '-m', 'nbconvert', 'Bike_Share_Analysis.ipynb'])"
   ]
  },
  {
   "cell_type": "code",
   "execution_count": null,
   "metadata": {},
   "outputs": [],
   "source": []
  }
 ],
 "metadata": {
  "anaconda-cloud": {},
  "kernelspec": {
   "display_name": "Python 3",
   "language": "python",
   "name": "python3"
  },
  "language_info": {
   "codemirror_mode": {
    "name": "ipython",
    "version": 3
   },
   "file_extension": ".py",
   "mimetype": "text/x-python",
   "name": "python",
   "nbconvert_exporter": "python",
   "pygments_lexer": "ipython3",
   "version": "3.7.3"
  }
 },
 "nbformat": 4,
 "nbformat_minor": 1
}
